{
 "cells": [
  {
   "cell_type": "markdown",
   "metadata": {},
   "source": [
    "### - Título e nome dos integrantes;\n",
    "### - Introdução: motivação e objetivos da análise;\n",
    "### - Dados usados: descrição do(s) dataset(s) e exploração inicial dos dados;\n",
    "### - Pré-processamento: limpeza e transformação dos dados necessários, explicando as decisões tomadas;\n",
    "### - Perguntas: mostrar cada pergunta e executar o passo a passo para respondê-las (vocês devem utilizar regressão linear ou agrupamento em pelo menos uma pergunta);\n",
    "### - Conclusão: resumir os resultados encontrados e explicar por que são importantes. Apontar limitações, trabalhos futuros e melhorias que podem ser feitas."
   ]
  },
  {
   "cell_type": "code",
   "execution_count": 3,
   "metadata": {},
   "outputs": [],
   "source": [
    "import numpy as np\n",
    "import pandas as pd\n",
    "import statistics as st\n",
    "import matplotlib.pyplot as plt\n",
    "from sklearn import preprocessing\n",
    "from sklearn.cluster import KMeans\n",
    "import seaborn as sns\n",
    "from mpl_toolkits.mplot3d import Axes3D"
   ]
  },
  {
   "cell_type": "code",
   "execution_count": 4,
   "metadata": {},
   "outputs": [],
   "source": [
    "df = pd.read_csv('./Datasets/stats_pl.csv')"
   ]
  },
  {
   "cell_type": "markdown",
   "metadata": {},
   "source": [
    "## Universidade Federal da Paraíba\n",
    "## Centro de Informática\n",
    "## Curso: *Ciência de Dados e Inteligência Artificial*\n",
    "## Grupo: *Arthur Ricardo, Danilo Henrique, Vinicius dos Santos*\n",
    "    \n",
    "## <h1><center><font color='red'> Data analysis of COVID-19 and Status of the PL</font></center></h1>"
   ]
  },
  {
   "cell_type": "markdown",
   "metadata": {},
   "source": [
    "# 1. Introdução\n",
    "\n",
    "O presente trabalho tem como objetivo aprofundar o conhecimento em ciência dados analisando datasets através de métodos como medidas de centralidade e dispersão, visualização de dados, limpeza e transformação, aplicações de regressão linear e agrupamentos.\n",
    " \n",
    "Os datasets utilizados foram sobre o COVID-19 e Status da Premier League. Com eles foi possível definirmos objetivos como analisar a correlação entre duas features e visualiza-las gráficamente através de agrupamentos utilizando o algoritmo KMeans e como predizer um resultado de acordo com as informações contidas nos datasets.\n",
    "    \n",
    "Para fazer a análise do dataset é preciso verificar se os dados estão prontos para serem testados, com isso verificamos a presença de dados duplicados, faltantes e a correlação alta entre features. Depois de identificarmos essas features fazemos a limpeza e transformação no dataset.\n",
    "\n",
    "Utilizando a linguagem Python e com o auxílio de diversas bibliotecas como Pandas, Numpy, Seaborn, Sklearn, entre outras, podemos realizar todos os cálculos e visualizar graficamente os resultados."
   ]
  },
  {
   "cell_type": "markdown",
   "metadata": {},
   "source": [
    "## 2. Dados Usados"
   ]
  },
  {
   "cell_type": "markdown",
   "metadata": {},
   "source": [
    "### 2.1 Status da Premier League"
   ]
  },
  {
   "cell_type": "markdown",
   "metadata": {},
   "source": [
    "O dataset *Status da Premier league* são estatísticas coletadas do Opta (coletor de estatísticas oficiais da Premier League) de cada equipe em cada temporada (totais da temporada) de 2006/2007 (ou seja, a temporada a partir da qual a coleta dessas estatísticas detalhadas começou) a 2017/2018.\n",
    "\n",
    "As estatísticas podem ser categorizadas da seguinte forma:\n",
    "\n",
    "**Geral**\n",
    "\n",
    "*Colunas* (1-5)\n",
    "\n",
    "wins, losses, goals, yellow cards, red cards\n",
    "\n",
    "**Ataque**\n",
    "\n",
    "*Colunas 6-15*\n",
    "\n",
    "shots, shots on target, hit woodwork, goals from header, goals from penalty, goals from free kick, goals from inside box, goals from outside box, goals from counter attack, offsides\n",
    "\n",
    "**Defesa**\n",
    "\n",
    "*Colunas 16-28*\n",
    "\n",
    "clean sheets, goals conceded, saves, blocks, interceptions, tackles, last man tackles, clearances, headed clearances, own goals, penalties conceded, goals conceded from penalty\n",
    "\n",
    "**Time**\n",
    "\n",
    "*Colunas 29-34*\n",
    "\n",
    "passes, through balls, long passes, backwards passes, crosses, corners taken\n",
    "\n",
    "**Outros**\n",
    "\n",
    "*Colunas 35-42*\n",
    "\n",
    "touches, big chances missed, clearances off line, dispossessed, penalties saved, high claims, punches, season"
   ]
  },
  {
   "cell_type": "markdown",
   "metadata": {},
   "source": [
    "### 2.2 COVID-19"
   ]
  },
  {
   "cell_type": "markdown",
   "metadata": {},
   "source": [
    "O dataset do COVID-19 possui 103 linhas e 13 colunas. Cada linha é uma região e as colunas informam a população da região, o número de casos, o número de mortes, o número de testes entre outras informações."
   ]
  },
  {
   "cell_type": "markdown",
   "metadata": {},
   "source": [
    "### 3. Exploração Inicial dos Dados"
   ]
  },
  {
   "cell_type": "markdown",
   "metadata": {},
   "source": [
    "Inicialmente carregamos e visualizamo os dados e fizemos uma exploração inicial, ou seja, acessamos colunas específicas, calculamos as médidas de centralidade e dispersão de algumas colunas e do dataset inteiro. Sendo assim, obtivemos a média, moda, mediana e desvio padrão dessas features e do dataset todo. \n",
    "\n",
    "As *medidas de centralidade* são calculadas da seguinte forma:\n",
    "\n",
    "**Média**: Soma todos valores e divide pela quantidade de valores somados.\n",
    "\n",
    "**Moda**: Retorna o termo que mais aparece.\n",
    "\n",
    "**Mediana**: Retorna o termo do meio.\n",
    "\n",
    "As *medidas de dispersão* são calculadas da seguinte forma:\n",
    "\n",
    "**Variância**: A variância mede o quanto os valores estão espalhados em relação a média. Ela é a media das distâncias quadráticas de cada ponto até a média.\n",
    "\n",
    "**Desvio padrão**: Tirando a raiz quadrada da variância obtivemos o desvio padrão."
   ]
  },
  {
   "cell_type": "markdown",
   "metadata": {},
   "source": [
    "### 3.1 Exploração Inicial dos Dados - Status da PL"
   ]
  },
  {
   "cell_type": "code",
   "execution_count": 5,
   "metadata": {},
   "outputs": [
    {
     "data": {
      "text/plain": [
       "wins                       14.150000\n",
       "losses                     14.150000\n",
       "goals                      51.062500\n",
       "total_yel_card             61.079167\n",
       "total_red_card              2.862500\n",
       "total_scoring_att         514.241667\n",
       "ontarget_scoring_att      168.116667\n",
       "hit_woodwork               12.283333\n",
       "att_hd_goal                 9.016667\n",
       "att_pen_goal                3.650000\n",
       "att_freekick_goal           1.495833\n",
       "att_ibox_goal              43.341667\n",
       "att_obox_goal               7.741667\n",
       "goal_fastbreak              2.983333\n",
       "total_offside              86.291667\n",
       "clean_sheet                10.945833\n",
       "goals_conceded             51.062500\n",
       "saves                      51.736364\n",
       "outfielder_block          132.133333\n",
       "interception              555.179167\n",
       "total_tackle              762.133333\n",
       "last_man_tackle             5.900000\n",
       "total_clearance          1252.416667\n",
       "head_clearance            675.236364\n",
       "own_goals                   1.966667\n",
       "penalty_conceded            4.750000\n",
       "pen_goals_conceded          3.650000\n",
       "total_pass              15691.908333\n",
       "total_through_ball         83.772727\n",
       "total_long_balls         2286.150000\n",
       "backward_pass            2465.650000\n",
       "total_cross               831.370833\n",
       "corner_taken              207.191667\n",
       "touches                 23908.962500\n",
       "big_chance_missed          39.200000\n",
       "clearance_off_line          4.991667\n",
       "dispossessed              472.968182\n",
       "penalty_save                0.837500\n",
       "total_high_claim           54.920833\n",
       "punches                    22.783333\n",
       "dtype: float64"
      ]
     },
     "execution_count": 5,
     "metadata": {},
     "output_type": "execute_result"
    }
   ],
   "source": [
    "df.mean()"
   ]
  },
  {
   "cell_type": "code",
   "execution_count": 6,
   "metadata": {},
   "outputs": [
    {
     "data": {
      "text/plain": [
       "wins                    3.627029e+01\n",
       "losses                  3.132469e+01\n",
       "goals                   2.625526e+02\n",
       "total_yel_card          1.015711e+02\n",
       "total_red_card          3.248797e+00\n",
       "total_scoring_att       9.212000e+03\n",
       "ontarget_scoring_att    1.501476e+03\n",
       "hit_woodwork            2.324156e+01\n",
       "att_hd_goal             1.338884e+01\n",
       "att_pen_goal            4.211715e+00\n",
       "att_freekick_goal       1.782409e+00\n",
       "att_ibox_goal           2.051966e+02\n",
       "att_obox_goal           1.338905e+01\n",
       "goal_fastbreak          5.849093e+00\n",
       "total_offside           4.299899e+02\n",
       "clean_sheet             1.722300e+01\n",
       "goals_conceded          1.744940e+02\n",
       "saves                   3.181674e+03\n",
       "outfielder_block        1.020275e+03\n",
       "interception            1.998350e+04\n",
       "total_tackle            1.096297e+04\n",
       "last_man_tackle         2.955481e+01\n",
       "total_clearance         1.070817e+05\n",
       "head_clearance          3.347567e+04\n",
       "own_goals               2.166248e+00\n",
       "penalty_conceded        5.117155e+00\n",
       "pen_goals_conceded      3.726360e+00\n",
       "total_pass              1.008873e+07\n",
       "total_through_ball      4.257775e+03\n",
       "total_long_balls        8.739008e+04\n",
       "backward_pass           2.412143e+05\n",
       "total_cross             1.405452e+04\n",
       "corner_taken            1.291193e+03\n",
       "touches                 1.054406e+07\n",
       "big_chance_missed       1.793434e+02\n",
       "clearance_off_line      7.866039e+00\n",
       "dispossessed            7.166131e+03\n",
       "penalty_save            8.981695e-01\n",
       "total_high_claim        3.527259e+02\n",
       "punches                 8.370181e+01\n",
       "dtype: float64"
      ]
     },
     "execution_count": 6,
     "metadata": {},
     "output_type": "execute_result"
    }
   ],
   "source": [
    "df.var()"
   ]
  },
  {
   "cell_type": "code",
   "execution_count": null,
   "metadata": {},
   "outputs": [],
   "source": []
  }
 ],
 "metadata": {
  "kernelspec": {
   "display_name": "Python 3",
   "language": "python",
   "name": "python3"
  },
  "language_info": {
   "codemirror_mode": {
    "name": "ipython",
    "version": 3
   },
   "file_extension": ".py",
   "mimetype": "text/x-python",
   "name": "python",
   "nbconvert_exporter": "python",
   "pygments_lexer": "ipython3",
   "version": "3.6.9"
  }
 },
 "nbformat": 4,
 "nbformat_minor": 2
}
